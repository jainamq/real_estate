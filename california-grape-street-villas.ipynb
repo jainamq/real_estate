{
 "cells": [
  {
   "cell_type": "markdown",
   "metadata": {},
   "source": [
    "# California Grape Stree villas\n",
    "https://www.crexi.com/properties/360888/california-grape-street-villas?crexi_url_type=2"
   ]
  },
  {
   "cell_type": "markdown",
   "metadata": {},
   "source": [
    "# over all\n",
    "was an air bnb, but vacancy rates are high and now turning to a sell. trying to sell but how to value. "
   ]
  },
  {
   "cell_type": "code",
   "execution_count": 66,
   "metadata": {},
   "outputs": [],
   "source": [
    "# long term rental\n",
    "\n",
    "#constants\n",
    "ProjectName = \"California Grape Stree villas\"\n",
    "NumberUnits=16\n",
    "SquareFootage=6852\n",
    "LotSize =5020\n",
    "NumBds = ['1bd1ba'*14,'studio'*2]\n",
    "# assumptions\n",
    "price    = 3600000\n",
    "rent     = 1700*14+1300*2\n",
    "ltv       = .75\n",
    "loanRatePer = 4\n",
    "expenseRate=.35\n",
    "repairCost = NumberUnits*15000\n",
    "# dervied \n",
    "\n",
    "rent     = 1700*14+1300*2\n"
   ]
  },
  {
   "cell_type": "code",
   "execution_count": 67,
   "metadata": {},
   "outputs": [],
   "source": [
    "def computeCapRate(rent, price, expenseRate=.35):\n",
    "    \"\"\"\n",
    "    rent - monthly price\n",
    "    price\n",
    "    return cap rate [%]\n",
    "    \"\"\"\n",
    "    return rent * 12 * (1-expenseRate)/price * 100\n",
    "def computeRoi(rent, price,Ltv,loanRatePer):\n",
    "    \"\"\"\n",
    "    rent per month\n",
    "    price \n",
    "    ltv loan to value [decimal value]\n",
    "    loan rate [percentage]\n",
    "    \"\"\"\n",
    "    roi = rent * 12 *(1-expenseRate) - loanAmount *loanRatePer/100.\n",
    "    roi = roi/((1-Ltv)*price)\n",
    "    return roi * 100\n"
   ]
  },
  {
   "cell_type": "code",
   "execution_count": 68,
   "metadata": {},
   "outputs": [
    {
     "name": "stdout",
     "output_type": "stream",
     "text": [
      "\n",
      "California Grape Stree villas\n",
      "current       as is  | repairs    \n",
      "cap rate :     5.72% |      5.72% \n",
      "roi rate :    10.88% |      5.36% \n",
      "\n"
     ]
    }
   ],
   "source": [
    "\n",
    "loanAmount= ltv*price\n",
    "capRate = computeCapRate(rent,price)\n",
    "\n",
    "\n",
    "print(\"\"\"\n",
    "{Project}\n",
    "current       as is  | repairs    \n",
    "cap rate :{C1:9.2f}% | {C1:9.2f}% \n",
    "roi rate :{R1:9.2f}% | {C2:9.2f}% \n",
    "\"\"\".format(\n",
    "    Project  = ProjectName,\n",
    "    C1 = computeCapRate(rent,price),\n",
    "    C2 = computeCapRate(rent,price+repairCost),\n",
    "    R1 = computeRoi(rent,price,ltv,loanRatePer),\n",
    "    R2 = computeRoi(rent,price+repairCost,ltv,loanRatePer)\n",
    "))"
   ]
  },
  {
   "cell_type": "code",
   "execution_count": 87,
   "metadata": {},
   "outputs": [],
   "source": [
    "# assumptions\n",
    "shortTermRate =110\n",
    "shortTermCost=.5\n",
    "# rental property at 5% cap rate, 1% spread to interest rate\n",
    "targetCap        = 5\n",
    "expenseRatioLand = .25 # reduce since triple net"
   ]
  },
  {
   "cell_type": "code",
   "execution_count": 92,
   "metadata": {},
   "outputs": [
    {
     "data": {
      "text/plain": [
       "65199.99999999997"
      ]
     },
     "execution_count": 92,
     "metadata": {},
     "output_type": "execute_result"
    }
   ],
   "source": [
    "# short term rental minus vacancy, management and \n",
    "profit =365*shortTermRate * (1-shortTermCost) * NumberUnits\n",
    "\n",
    "\n",
    "# compute PE for hotel break into two parts\n",
    "\n",
    "# hotel rate it will pay per month\n",
    "hotelRent = targetCap/(12*(1-expenseRatioLand)/ (price+repairCost) * 100) * 12\n",
    "hotelRepairCost = 5000*NumberUnits\n",
    "\n",
    "hotelRev -hotelRent"
   ]
  },
  {
   "cell_type": "code",
   "execution_count": 89,
   "metadata": {},
   "outputs": [
    {
     "data": {
      "text/plain": [
       "80000"
      ]
     },
     "execution_count": 89,
     "metadata": {},
     "output_type": "execute_result"
    }
   ],
   "source": [
    "hotelRepairCost"
   ]
  }
 ],
 "metadata": {
  "kernelspec": {
   "display_name": "Python 3",
   "language": "python",
   "name": "python3"
  },
  "language_info": {
   "codemirror_mode": {
    "name": "ipython",
    "version": 3
   },
   "file_extension": ".py",
   "mimetype": "text/x-python",
   "name": "python",
   "nbconvert_exporter": "python",
   "pygments_lexer": "ipython3",
   "version": "3.7.1"
  }
 },
 "nbformat": 4,
 "nbformat_minor": 2
}
